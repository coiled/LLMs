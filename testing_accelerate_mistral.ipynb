{
 "cells": [
  {
   "cell_type": "code",
   "execution_count": null,
   "metadata": {},
   "outputs": [],
   "source": [
    "import coiled\n",
    "import os\n",
    "from typing import List, Dict\n",
    "from distributed.client import Client\n",
    "import subprocess\n",
    "\n",
    "# coiled.create_software_environment(\n",
    "#     name=\"pytorch-llm\",\n",
    "#     conda=\"pytorch-llm.yaml\",\n",
    "#     gpu_enabled=True,\n",
    "#     account = \"nathan-ballou-gcp\"\n",
    "# )"
   ]
  },
  {
   "cell_type": "code",
   "execution_count": null,
   "metadata": {},
   "outputs": [],
   "source": [
    "n_workers = 4\n",
    "\n",
    "cluster = coiled.Cluster(\n",
    "    n_workers=n_workers,\n",
    "    worker_vm_types=\"g2-standard-4\",\n",
    "    # worker_vm_types=\"a2-highgpu-1g\",\n",
    "    # worker_vm_types=\"a2-ultragpu-1g\",\n",
    "    # scheduler_vm_types=\"g2-standard-4\",\n",
    "    account=\"nathan-ballou-gcp\",\n",
    "    software=\"pytorch-llm\",\n",
    "    worker_disk_size=256,\n",
    "    idle_timeout = \"2 hours\",\n",
    "    # region = \"us-west1\"\n",
    ")\n",
    "\n",
    "client = cluster.get_client()\n",
    "client\n",
    "\n",
    "client.wait_for_workers(n_workers=n_workers)"
   ]
  },
  {
   "cell_type": "code",
   "execution_count": null,
   "metadata": {},
   "outputs": [],
   "source": [
    "def _get_worker_info(client: Client) -> List[Dict]:\n",
    "    \"\"\"\n",
    "    returns a list of workers (sorted), and the DNS name for the master host\n",
    "    The master is the 0th worker's host\n",
    "    \"\"\"\n",
    "    workers = client.scheduler_info()[\"workers\"]\n",
    "    worker_keys = sorted(workers.keys())\n",
    "    workers_by_host: Dict[str, List[str]] = {}\n",
    "    for key in worker_keys:\n",
    "        worker = workers[key]\n",
    "        host = worker[\"host\"]\n",
    "        workers_by_host.setdefault(host, []).append(key)\n",
    "    host = workers[worker_keys[0]][\"host\"]\n",
    "    all_workers = []\n",
    "    global_rank = 0\n",
    "    for host in sorted(workers_by_host.keys()):\n",
    "        for worker in workers_by_host[host]:\n",
    "            worker_info = workers[worker]\n",
    "            all_workers.append(\n",
    "                dict(\n",
    "                    worker=worker,\n",
    "                    global_rank=global_rank,\n",
    "                    host=host,\n",
    "                    local_directory=worker_info.get(\"local_directory\", None),\n",
    "                )\n",
    "            )\n",
    "            global_rank += 1\n",
    "    return all_workers"
   ]
  },
  {
   "cell_type": "code",
   "execution_count": null,
   "metadata": {},
   "outputs": [],
   "source": [
    "all_workers = _get_worker_info(client)"
   ]
  },
  {
   "cell_type": "code",
   "execution_count": null,
   "metadata": {},
   "outputs": [],
   "source": [
    "all_workers"
   ]
  },
  {
   "cell_type": "code",
   "execution_count": null,
   "metadata": {},
   "outputs": [],
   "source": [
    "from distributed.diagnostics.plugin import UploadFile\n",
    "\n",
    "client.register_plugin(UploadFile(\"sft.py\", load = False))\n",
    "client.register_plugin(UploadFile(\"config.yml\", load = False))"
   ]
  },
  {
   "cell_type": "code",
   "execution_count": null,
   "metadata": {},
   "outputs": [],
   "source": [
    "host = all_workers[0][\"host\"]\n",
    "port = 12345\n",
    "num_machines = len(all_workers)\n",
    "gpus_per_worker = 1\n",
    "output_directory = \"/scratch/experiments/finetune-mixtral-8x7B\""
   ]
  },
  {
   "cell_type": "code",
   "execution_count": null,
   "metadata": {},
   "outputs": [],
   "source": [
    "def run_subprocess(\n",
    "        host_ip, \n",
    "        host_port, \n",
    "        machine_rank, \n",
    "        num_processes, \n",
    "        num_machines,\n",
    "        local_directory,\n",
    "        output_directory\n",
    "        ):\n",
    "    \n",
    "    command = [\n",
    "        \"accelerate\", \"launch\",\n",
    "        \"--config_file\", f\"{local_directory}/config.yml\",\n",
    "        \"--main_process_ip\", host_ip,\n",
    "        \"--main_process_port\", str(host_port),\n",
    "        \"--machine_rank\", str(machine_rank),\n",
    "        \"--num_processes\", str(num_processes),\n",
    "        \"--num_machines\", str(num_machines),\n",
    "        f\"{local_directory}/sft.py\",\n",
    "        '--model_name', 'mistralai/Mistral-7B-v0.1',\n",
    "        '--dataset_name', \"trl-lib/ultrachat_200k_chatml\",\n",
    "        '--batch_size', '2',\n",
    "        '--gradient_accumulation_steps', '1',\n",
    "        '--learning_rate', '2e-4',\n",
    "        '--save_steps', '200_000',\n",
    "        '--use_peft',\n",
    "        '--peft_lora_r', '8',\n",
    "        '--peft_lora_alpha', '16',\n",
    "        '--target_modules', \"q_proj\", \"k_proj\", \"v_proj\", \"o_proj\",\n",
    "        '--load_in_4bit',\n",
    "        '--output_dir', output_directory,\n",
    "        # '--gradient_checkpointing',\n",
    "        '--trust_remote_code',\n",
    "        ]\n",
    "\n",
    "    with subprocess.Popen(command, stdout=subprocess.PIPE, stderr=subprocess.STDOUT) as process:\n",
    "        for line in process.stdout:\n",
    "            print(line.decode('utf8'))\n",
    "\n",
    "    return f\"Worker {machine_rank}: Done.\""
   ]
  },
  {
   "cell_type": "code",
   "execution_count": null,
   "metadata": {},
   "outputs": [],
   "source": [
    "futures = []\n",
    "for worker in all_workers:\n",
    "    fut = client.submit(\n",
    "        run_subprocess,\n",
    "        workers = [worker['worker']],\n",
    "        host_ip = host,\n",
    "        host_port = port, \n",
    "        machine_rank= worker['global_rank'], \n",
    "        num_processes = num_machines * gpus_per_worker, \n",
    "        num_machines = num_machines,\n",
    "        local_directory = worker['local_directory'],\n",
    "        output_directory = output_directory\n",
    "    )\n",
    "    futures.append(fut)\n",
    "futures"
   ]
  },
  {
   "cell_type": "code",
   "execution_count": null,
   "metadata": {},
   "outputs": [],
   "source": [
    "def foo():\n",
    "   from distributed.diagnostics import nvml\n",
    "   return nvml.real_time()\n",
    "client.run(foo)"
   ]
  },
  {
   "cell_type": "code",
   "execution_count": null,
   "metadata": {},
   "outputs": [],
   "source": [
    "for future in futures:\n",
    "    print(future.result())"
   ]
  },
  {
   "cell_type": "code",
   "execution_count": null,
   "metadata": {},
   "outputs": [],
   "source": [
    "for future in futures:\n",
    "    future.cancel()"
   ]
  },
  {
   "cell_type": "code",
   "execution_count": null,
   "metadata": {},
   "outputs": [],
   "source": [
    "def list_files(directory_path):\n",
    "    return [os.path.join(directory_path, f) for f in os.listdir(directory_path) if os.path.isfile(os.path.join(directory_path, f))]\n",
    "\n",
    "def read_file(file_path):\n",
    "    with open(file_path, 'rb') as file:  # Use 'rb' for binary mode\n",
    "        return file.read(), os.path.basename(file_path)\n",
    "\n",
    "# Get list of files in the directory\n",
    "file_list_future = client.submit(list_files, output_directory, workers = [all_workers[0][\"worker\"]])\n",
    "file_list = file_list_future.result()\n",
    "\n",
    "# Local directory to save files\n",
    "local_directory = 'output'\n",
    "os.makedirs(local_directory, exist_ok=True)\n",
    "\n",
    "for file_path in file_list:\n",
    "    file_future = client.submit(read_file, file_path, workers = [all_workers[0][\"worker\"]])\n",
    "    content, filename = file_future.result()\n",
    "    local_file_path = os.path.join(local_directory, filename)\n",
    "    with open(local_file_path, 'wb') as local_file:\n",
    "        local_file.write(content)\n"
   ]
  },
  {
   "cell_type": "code",
   "execution_count": null,
   "metadata": {},
   "outputs": [],
   "source": [
    "cluster.shutdown()"
   ]
  },
  {
   "cell_type": "code",
   "execution_count": null,
   "metadata": {},
   "outputs": [],
   "source": [
    "# client.restart()"
   ]
  },
  {
   "cell_type": "code",
   "execution_count": null,
   "metadata": {},
   "outputs": [],
   "source": [
    "# # Function to search for 'train.py' in the worker's file system\n",
    "# def find_train_py():\n",
    "#     for root, dirs, files in os.walk('/scratch'):\n",
    "#         if 'config.yml' in files:\n",
    "#             return os.path.join(root, 'config.yml')\n",
    "#     return \"train.py not found\"\n",
    "\n",
    "# # Run the function on all workers\n",
    "# futures = client.run(find_train_py)\n",
    "\n",
    "# # Collect results\n",
    "# results = client.gather(futures)\n",
    "\n",
    "# # Print the results\n",
    "# for worker, path in results.items():\n",
    "#     print(f\"Worker {worker} found 'config.yml' at: {path}\")\n"
   ]
  },
  {
   "cell_type": "code",
   "execution_count": null,
   "metadata": {},
   "outputs": [],
   "source": []
  }
 ],
 "metadata": {
  "kernelspec": {
   "display_name": "pytorch-llm",
   "language": "python",
   "name": "python3"
  },
  "language_info": {
   "codemirror_mode": {
    "name": "ipython",
    "version": 3
   },
   "file_extension": ".py",
   "mimetype": "text/x-python",
   "name": "python",
   "nbconvert_exporter": "python",
   "pygments_lexer": "ipython3",
   "version": "3.11.7"
  }
 },
 "nbformat": 4,
 "nbformat_minor": 2
}
