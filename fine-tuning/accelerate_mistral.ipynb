{
 "cells": [
  {
   "cell_type": "code",
   "execution_count": null,
   "metadata": {},
   "outputs": [],
   "source": [
    "import coiled\n",
    "import os\n",
    "from typing import List, Dict\n",
    "from distributed.client import Client\n",
    "import subprocess\n",
    "\n",
    "# coiled.create_software_environment(\n",
    "#     name=\"pytorch-llm\",\n",
    "#     conda=\"pytorch-llm.yaml\",\n",
    "#     gpu_enabled=True,\n",
    "#     account = \"nathan-ballou-gcp\"\n",
    "# )"
   ]
  },
  {
   "cell_type": "code",
   "execution_count": null,
   "metadata": {},
   "outputs": [],
   "source": [
    "n_workers = 4\n",
    "\n",
    "cluster = coiled.Cluster(\n",
    "    n_workers=n_workers,\n",
    "    worker_vm_types=\"g2-standard-4\",\n",
    "    account=\"nathan-ballou-gcp\",\n",
    "    software=\"pytorch-llm\",\n",
    "    worker_disk_size=128,\n",
    "    idle_timeout = \"24 hours\",\n",
    ")\n",
    "\n",
    "client = cluster.get_client()\n",
    "client.wait_for_workers(n_workers=n_workers)"
   ]
  },
  {
   "cell_type": "code",
   "execution_count": null,
   "metadata": {},
   "outputs": [],
   "source": [
    "from dask.distributed import get_worker\n",
    "\n",
    "def get_worker_info() -> List[Dict]:\n",
    "    from dask.distributed.diagnostics import nvml\n",
    "    worker = get_worker()\n",
    "    return {\n",
    "        \"worker\": worker.address,\n",
    "        \"host\": worker.ip,\n",
    "        \"local_directory\": worker.local_directory,\n",
    "        \"gpus\": nvml.device_get_count(),\n",
    "    }\n",
    "\n",
    "workers = list(client.scheduler_info()[\"workers\"].keys())\n",
    "all_workers = client.gather([client.submit(get_worker_info, workers=[worker], pure=False) for worker in workers])\n",
    "all_workers"
   ]
  },
  {
   "cell_type": "code",
   "execution_count": null,
   "metadata": {},
   "outputs": [],
   "source": [
    "gpus_per_worker = all_workers[0][\"gpus\"]\n",
    "host = all_workers[0][\"host\"]\n",
    "port = \"12345\"\n",
    "num_machines = len(all_workers)\n",
    "num_processes = num_machines * gpus_per_worker\n",
    "\n",
    "script_path = \"sft.py\"\n",
    "config_path = \"config.yml\"\n",
    "output_directory = \"/scratch/experiments/finetune-mixtral-8x7B\""
   ]
  },
  {
   "cell_type": "code",
   "execution_count": null,
   "metadata": {},
   "outputs": [],
   "source": [
    "client.upload_file(script_path, load=False)\n",
    "client.upload_file(config_path, load=False)"
   ]
  },
  {
   "cell_type": "code",
   "execution_count": null,
   "metadata": {},
   "outputs": [],
   "source": [
    "def train(local_directory, config_path, host, port, machine_rank, num_processes, num_machines, script_path, commands_str):\n",
    "    command = [\n",
    "        \"accelerate\",\n",
    "        \"launch\",\n",
    "        \"--config_file\", f\"{local_directory}/{config_path}\",\n",
    "        \"--machine_rank\", str(machine_rank),\n",
    "        \"--num_processes\", str(num_processes),\n",
    "        \"--num_machines\", str(num_machines),\n",
    "    ]\n",
    "    if num_machines > 1:\n",
    "        command += [\n",
    "            \"--main_process_ip\", str(host),\n",
    "            \"--main_process_port\", str(port),\n",
    "        ]\n",
    "    command += [f\"{local_directory}/{script_path}\"] + commands_str.split()\n",
    "    subprocess.check_call(command)  # Run command using subprocess\n",
    "    return f\"Worker {machine_rank}: Done.\"\n",
    "\n",
    "command_str = f\"\"\"--model_name mistralai/Mistral-7B-v0.1 \n",
    "                 --dataset_name trl-lib/ultrachat_200k_chatml\n",
    "                 --output_dir {output_directory}\n",
    "                 --batch_size 2 --gradient_accumulation_steps 1\n",
    "                 --learning_rate 2e-4\n",
    "                 --save_steps 200_000\n",
    "                 --use_peft\n",
    "                 --peft_lora_r 8\n",
    "                 --peft_lora_alpha 16\n",
    "                 --target_modules q_proj k_proj v_proj o_proj\n",
    "                 --load_in_4bit\n",
    "                 --trust_remote_code\n",
    "              \"\"\"\n",
    "\n",
    "futures = [\n",
    "    client.submit(\n",
    "        train,\n",
    "        local_directory=worker['local_directory'],\n",
    "        config_path=config_path, \n",
    "        host=host,\n",
    "        port=port,\n",
    "        machine_rank=rank,\n",
    "        num_processes=num_processes,\n",
    "        num_machines=num_machines,\n",
    "        script_path=script_path,\n",
    "        commands_str=command_str,\n",
    "        workers=[worker['worker']],\n",
    "    )\n",
    "    for rank, worker in enumerate(all_workers)\n",
    "]\n",
    "futures"
   ]
  },
  {
   "cell_type": "code",
   "execution_count": null,
   "metadata": {},
   "outputs": [],
   "source": [
    "for future in futures:\n",
    "    print(future.result())"
   ]
  },
  {
   "cell_type": "code",
   "execution_count": null,
   "metadata": {},
   "outputs": [],
   "source": [
    "def list_files(directory_path):\n",
    "    return [os.path.join(directory_path, f) for f in os.listdir(directory_path) if os.path.isfile(os.path.join(directory_path, f))]\n",
    "\n",
    "def read_file(file_path):\n",
    "    with open(file_path, 'rb') as file:\n",
    "        return file.read(), os.path.basename(file_path)\n",
    "\n",
    "# Get list of files in the directory\n",
    "file_list_future = client.submit(list_files, output_directory, workers = [all_workers[0][\"worker\"]])\n",
    "file_list = file_list_future.result()\n",
    "\n",
    "# Local directory to save files\n",
    "local_directory = 'output'\n",
    "os.makedirs(local_directory, exist_ok=True)\n",
    "\n",
    "for file_path in file_list:\n",
    "    file_future = client.submit(read_file, file_path, workers = [all_workers[0][\"worker\"]])\n",
    "    content, filename = file_future.result()\n",
    "    local_file_path = os.path.join(local_directory, filename)\n",
    "    with open(local_file_path, 'wb') as local_file:\n",
    "        local_file.write(content)"
   ]
  },
  {
   "cell_type": "code",
   "execution_count": null,
   "metadata": {},
   "outputs": [],
   "source": []
  }
 ],
 "metadata": {
  "kernelspec": {
   "display_name": "Python 3 (ipykernel)",
   "language": "python",
   "name": "python3"
  },
  "language_info": {
   "codemirror_mode": {
    "name": "ipython",
    "version": 3
   },
   "file_extension": ".py",
   "mimetype": "text/x-python",
   "name": "python",
   "nbconvert_exporter": "python",
   "pygments_lexer": "ipython3",
   "version": "3.11.7"
  }
 },
 "nbformat": 4,
 "nbformat_minor": 4
}
